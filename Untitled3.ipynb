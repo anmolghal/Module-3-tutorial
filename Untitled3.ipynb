{
 "cells": [
  {
   "cell_type": "code",
   "execution_count": null,
   "id": "6644364f-63aa-4165-86d5-8a7730fa8ca2",
   "metadata": {},
   "outputs": [],
   "source": [
    "class Solution:\n",
    "    # Function to sort an array of 0s, 1s, and 2s\n",
    "    def sort012(self, arr):\n",
    "        low, mid, high = 0, 0, len(arr) - 1\n",
    "        # Using the Dutch National Flag algorithm\n",
    "        while mid <= high:\n",
    "            if arr[mid] == 0:\n",
    "                arr[low], arr[mid] = arr[mid], arr[low]  # Swap the elements\n",
    "                low += 1\n",
    "                mid += 1\n",
    "            elif arr[mid] == 1:\n",
    "                mid += 1\n",
    "            else:\n",
    "                arr[mid], arr[high] = arr[high], arr[mid]  # Swap the elements\n",
    "                high -= 1\n"
   ]
  },
  {
   "cell_type": "markdown",
   "id": "3178a713-9303-4e2d-9049-58f91c344dc0",
   "metadata": {},
   "source": [
    "Sort an array of 0s,1s and 2s"
   ]
  },
  {
   "cell_type": "code",
   "execution_count": null,
   "id": "6f45477e-17f7-42a3-92d6-04333efe40db",
   "metadata": {},
   "outputs": [],
   "source": [
    "class Solution:\n",
    "    # Function to perform binary search recursively\n",
    "    def bin_search(self, arr, left, right, k):\n",
    "        if left > right:\n",
    "            return -1  # If left pointer exceeds right pointer, element not found\n",
    "        mid = (left + right) // 2  # Calculate mid index\n",
    "        if arr[mid] == k:\n",
    "            return mid  # If element is found at mid index, return index\n",
    "        if arr[mid] > k:\n",
    "            return self.bin_search(\n",
    "                arr, left, mid - 1, k\n",
    "            )  # If element is less than mid, perform binary search on left subarray\n",
    "        else:\n",
    "            return self.bin_search(\n",
    "                arr, mid + 1, right, k\n",
    "            )  # If element is greater than mid, perform binary search on right subarray\n",
    "\n",
    "    # Function to call the binary search function\n",
    "    def binarysearch(self, arr, k):\n",
    "        n = len(arr)\n",
    "        return self.bin_search(arr, 0, n - 1,\n",
    "                               k)  # Perform binary search on the entire array"
   ]
  },
  {
   "cell_type": "markdown",
   "id": "e2926f2e-56cb-4f39-9085-629bcb845bca",
   "metadata": {},
   "source": [
    "Binary search"
   ]
  }
 ],
 "metadata": {
  "kernelspec": {
   "display_name": "Python 3 (ipykernel)",
   "language": "python",
   "name": "python3"
  },
  "language_info": {
   "codemirror_mode": {
    "name": "ipython",
    "version": 3
   },
   "file_extension": ".py",
   "mimetype": "text/x-python",
   "name": "python",
   "nbconvert_exporter": "python",
   "pygments_lexer": "ipython3",
   "version": "3.11.7"
  }
 },
 "nbformat": 4,
 "nbformat_minor": 5
}
